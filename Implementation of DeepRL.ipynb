{
 "cells": [
  {
   "cell_type": "markdown",
   "metadata": {
    "colab_type": "text",
    "id": "9V-Rn_atzVm8"
   },
   "source": [
    "\n"
   ]
  },
  {
   "cell_type": "markdown",
   "metadata": {
    "colab_type": "text",
    "id": "w6QojKpmnL7d"
   },
   "source": [
    "### 4.1 Define class DQN "
   ]
  },
  {
   "cell_type": "code",
   "execution_count": 1,
   "metadata": {
    "colab": {
     "base_uri": "https://localhost:8080/",
     "height": 34
    },
    "colab_type": "code",
    "id": "DESXLxAP9fLI",
    "outputId": "872c9e3b-09c3-4778-a46f-f32df9542dd4"
   },
   "outputs": [
    {
     "name": "stdout",
     "output_type": "stream",
     "text": [
      "1.15.0\n"
     ]
    }
   ],
   "source": [
    "import numpy as np\n",
    "\n",
    "############################\n",
    "\n",
    "%tensorflow_version 1.x\n",
    "import tensorflow as tf\n",
    "print(tf.__version__)\n",
    "\n",
    "############################\n",
    "\n",
    "# DQN\n",
    "class DQN:\n",
    "        def __init__(\n",
    "          self,\n",
    "          actions_num,\n",
    "          state_size,\n",
    "          learning_rate = 0.001,\n",
    "          gamma = 0.99,\n",
    "          epsilon_min = 0.05,\n",
    "          epsilon_start = 0.9,\n",
    "          replace_target_iter = 300,\n",
    "          memory_size = 500,\n",
    "          batch_size = 2,\n",
    "          epsilon_increment = None,\n",
    "        ):\n",
    "        self.actions_num = actions_num\n",
    "        self.state_size = state_size\n",
    "        self.lr = learning_rate\n",
    "        self.gamma = gamma\n",
    "        self.epsilon_min = epsilon_min\n",
    "        self.replace_target_iter = replace_target_iter\n",
    "        self.memory_size = memory_size\n",
    "        self.batch_size = batch_size\n",
    "        self.epsilon_increment = epsilon_increment\n",
    "        self.epsilon = epsilon_start if epsilon_increment is not None else self.epsilon_min\n",
    "        self.save_model_path = './weights/DQN_model.ckpt'\n",
    "        self.memory_counter = 0\n",
    "\n",
    "        # learned steps counter\n",
    "        self.steps_counter = 0\n",
    "\n",
    "        # initialize memory [s, a, r, s_, done]\n",
    "        self.memory = np.zeros((self.memory_size, state_size * 2 + 3))\n",
    "\n",
    "        # build target_net and q_net\n",
    "        self.build_net()\n",
    "        t_params = tf.get_collection('target_net_params')\n",
    "        q_params = tf.get_collection('q_net_params')\n",
    "        self.replace_target = [tf.assign(t, q) for t, q in zip(t_params, q_params)]\n",
    "\n",
    "        # gpu setting\n",
    "        config = tf.ConfigProto(log_device_placement=False, allow_soft_placement=True)\n",
    "        config.gpu_options.per_process_gpu_memory_fraction = 0.6\n",
    "        self.sess = tf.Session(config=config)\n",
    "\n",
    "        self.sess.run(tf.global_variables_initializer())\n",
    "\n",
    "        def build_net(self):\n",
    "            # build q_net\n",
    "            self.state = tf.placeholder(tf.float32, [None, self.state_size], name='state')\n",
    "            self.q_target = tf.placeholder(tf.float32, [None, self.actions_num], name='Q_target')\n",
    "            with tf.variable_scope('q_net'):\n",
    "                # c_names(collections_names) are the collections to store variables\n",
    "                  c_names, neurons_layer_1, w_initializer, b_initializer = \\\n",
    "                  ['q_net_params', tf.GraphKeys.GLOBAL_VARIABLES], 100, \\\n",
    "                  tf.random_normal_initializer(0., 0.3), tf.constant_initializer(0.1)\n",
    "\n",
    "                # layer 1\n",
    "                with tf.variable_scope('layer_1'):\n",
    "                    w_layer_1 = tf.get_variable('w_layer_1', [self.state_size, neurons_layer_1], initializer=w_initializer, collections=c_names)\n",
    "                    b_layer_1 = tf.get_variable('b_layer_1', [1, neurons_layer_1], initializer=b_initializer, collections=c_names)\n",
    "                    layer_1 = tf.nn.relu(tf.matmul(self.state, w_layer_1) + b_layer_1)\n",
    "\n",
    "                # layer 2\n",
    "                with tf.variable_scope('layer_2'):\n",
    "                    w_layer_2 = tf.get_variable('w_layer_2', [neurons_layer_1, self.actions_num], initializer=w_initializer, collections=c_names)\n",
    "                    b_layer_2 = tf.get_variable('b_layer_2', [1, self.actions_num], initializer=b_initializer, collections=c_names)\n",
    "                    self.q_value = tf.matmul(layer_1, w_layer_2) + b_layer_2\n",
    "\n",
    "            with tf.variable_scope('loss'):\n",
    "                self.loss = tf.reduce_mean(tf.squared_difference(self.q_target, self.q_value))\n",
    "            with tf.variable_scope('train'):\n",
    "                self._train_op = tf.train.AdamOptimizer(self.lr).minimize(self.loss)\n",
    "\n",
    "            # build target_net\n",
    "            self.state_t = tf.placeholder(tf.float32, [None, self.state_size], name='state_t')    # input\n",
    "            with tf.variable_scope('target_net'):\n",
    "                # c_names(collections_names) are the collections to store variables\n",
    "                c_names = ['target_net_params', tf.GraphKeys.GLOBAL_VARIABLES]\n",
    "\n",
    "                # layer 1\n",
    "                with tf.variable_scope('layer_1'):\n",
    "                    w_layer_1 = tf.get_variable('w_layer_1', [self.state_size, neurons_layer_1], initializer=w_initializer, collections=c_names)\n",
    "                    b_layer_1 = tf.get_variable('b_layer_1', [1, neurons_layer_1], initializer=b_initializer, collections=c_names)\n",
    "                    layer_1 = tf.nn.relu(tf.matmul(self.state_t, w_layer_1) + b_layer_1)\n",
    "\n",
    "                # layer 2\n",
    "\n",
    "\n",
    "                # Note that q_next (Q(s’, a’)) is the q value given by the target network while R + Q(s’, a’) is the q_target. \n",
    "                with tf.variable_scope('layer_2'):\n",
    "                    w_layer_2 = tf.get_variable('w_layer_2', [neurons_layer_1, self.actions_num], initializer=w_initializer, collections=c_names)\n",
    "                    b_layer_2 = tf.get_variable('b_layer_2', [1, self.actions_num], initializer=b_initializer, collections=c_names)\n",
    "                    self.q_next = tf.matmul(layer_1, w_layer_2) + b_layer_2\n",
    "\n",
    "      \n",
    "    def store_transition(self, s, a, r, s_, done):\n",
    "        s=s.reshape(-1)\n",
    "        s_=s_.reshape(-1)\n",
    "        transition = np.hstack((s, [a, r], s_, done))\n",
    "\n",
    "        # replace the old memory with new observations\n",
    "        index = self.memory_counter % self.memory_size\n",
    "        self.memory[index, :] = transition\n",
    "\n",
    "        self.memory_counter += 1\n",
    "\n",
    "    def choose_action(self, observation):\n",
    "        # to have batch dimension when fed into tf placeholder\n",
    "        observation = observation[np.newaxis, :]\n",
    "        # epsilon-greedy\n",
    "        if np.random.uniform() > self.epsilon:\n",
    "            action_values = self.sess.run(self.q_value, feed_dict={self.state: observation})\n",
    "            action = np.argmax(action_values)\n",
    "        else:\n",
    "            action = np.random.randint(0, self.actions_num)\n",
    "        return action\n",
    "\n",
    "    def learn(self):\n",
    "        # replace target parameters every once a while\n",
    "        if self.steps_counter % self.replace_target_iter == 0:\n",
    "            self.sess.run(self.replace_target)\n",
    "\n",
    "        # sample a batch from the memory\n",
    "        if self.memory_counter > self.memory_size:\n",
    "            sample_index = np.random.choice(self.memory_size, size=self.batch_size)\n",
    "        else:\n",
    "            sample_index = np.random.choice(self.memory_counter, size=self.batch_size)\n",
    "        batch_memory = self.memory[sample_index, :]\n",
    "\n",
    "        q_next, q_value = self.sess.run(\n",
    "          [self.q_next, self.q_value],\n",
    "          feed_dict={\n",
    "            self.state_t: batch_memory[:, -self.state_size-1:-1],  # fixed params # s_\n",
    "            self.state: batch_memory[:, :self.state_size],  # newest params # s\n",
    "          })\n",
    "\n",
    "        # calculate q_target\n",
    "        q_target = q_value.copy()\n",
    "\n",
    "        # only change the action-values of this batch, because we only calculate loss on the batch observations\n",
    "        batch_index = np.arange(self.batch_size, dtype=np.int32)\n",
    "        act_index = batch_memory[:, self.state_size].astype(int)\n",
    "        reward = batch_memory[:, self.state_size + 1]\n",
    "        done = batch_memory[:, -1] \n",
    "        ############################\n",
    "        for batch_idx in batch_index:\n",
    "          # memory -> s,a,r,s_,done\n",
    "            A = act_index[batch_idx]\n",
    "            R = reward[batch_idx]\n",
    "            Done = done[batch_idx]\n",
    "            if Done:\n",
    "                q_target[batch_idx,A] = R\n",
    "            else:\n",
    "                q_target[batch_idx,A] = R + self.gamma*np.max(q_next[batch_idx])\n",
    "\n",
    "\n",
    "        # train q_net\n",
    "        _, self.cost = self.sess.run([self._train_op, self.loss],\n",
    "                        feed_dict= {self.state: batch_memory[:, :self.state_size],\n",
    "                              self.q_target: q_target}\n",
    "                        )\n",
    "        # change epsilon\n",
    "        self.epsilon = self.epsilon - self.epsilon_increment if self.epsilon > self.epsilon_min else self.epsilon_min\n",
    "        self.steps_counter += 1\n",
    "\n",
    "    def store(self):\n",
    "        saver = tf.train.Saver() \n",
    "        saver.save(self.sess, self.save_model_path)\n",
    "  \n",
    "    def restore(self):\n",
    "        saver = tf.train.Saver() \n",
    "        saver.restore(self.sess, self.save_model_path)\n",
    "\n",
    "\n",
    "\n",
    "\n"
   ]
  },
  {
   "cell_type": "markdown",
   "metadata": {
    "colab_type": "text",
    "id": "CO1aavOnnUHQ"
   },
   "source": [
    "### 4.2 Environment setting"
   ]
  },
  {
   "cell_type": "code",
   "execution_count": 2,
   "metadata": {
    "colab": {
     "base_uri": "https://localhost:8080/",
     "height": 67
    },
    "colab_type": "code",
    "id": "R_Pan2x1XlxB",
    "outputId": "39338ac5-acb5-4860-a512-866e4a507f53"
   },
   "outputs": [
    {
     "name": "stdout",
     "output_type": "stream",
     "text": [
      "Discrete(2)\n",
      "Box(4,)\n",
      "(array([ 0.03467452,  0.15515745, -0.0216516 , -0.34774936]), 1.0, False, {})\n"
     ]
    }
   ],
   "source": [
    "import gym\n",
    "# cart pole gym environment\n",
    "env = gym.make(\"CartPole-v0\")\n",
    "env._max_episode_steps = 500\n",
    "# state and action space\n",
    "print(env.action_space)\n",
    "print(env.observation_space)\n",
    "# observation\n",
    "env.reset()\n",
    "# state, reward, done, info\n",
    "print(env.step(1))"
   ]
  },
  {
   "cell_type": "markdown",
   "metadata": {
    "colab_type": "text",
    "id": "0zf1EKuLnaOY"
   },
   "source": [
    "### 4.3 Play and Train the network"
   ]
  },
  {
   "cell_type": "code",
   "execution_count": null,
   "metadata": {
    "colab": {},
    "colab_type": "code",
    "id": "UMOz0IC6cJqt"
   },
   "outputs": [],
   "source": [
    "# play the game and train the network\n",
    "np.set_printoptions(threshold=np.inf)\n",
    "episode_length_set = []\n",
    "tf.reset_default_graph()\n",
    "total_time_steps = 100000\n",
    "\n",
    "RL = DQN(actions_num = 2, gamma = 0.99,\n",
    "         state_size = 4, epsilon_start = 1,\n",
    "         learning_rate = 1e-3, epsilon_min = 0.01,\n",
    "         replace_target_iter = 100, memory_size = 5000,\n",
    "         epsilon_increment = 0.00001,)\n",
    "\n",
    "new_state = env.reset()\n",
    "done = False\n",
    "episode_length_counter = 0\n",
    "#print('1',new_state) #for test\n",
    "for step in range(total_time_steps):\n",
    "  # calculate episode length, calculate and take action, observe and store transition into memory.\n",
    "    S = new_state\n",
    "    A = RL.choose_action(S)\n",
    "    S_, R, done, info = env.step(A)\n",
    "    RL.store_transition(S,A,R,S_,done)\n",
    "    if done:\n",
    "        new_state = env.reset()\n",
    "        episode_length_set.append(episode_length_counter+1)\n",
    "        episode_length_counter = 0\n",
    "    else:\n",
    "        new_state = S_ \n",
    "  \n",
    "    if step > 200:\n",
    "        RL.learn()\n",
    "   # break # for test\n",
    "    episode_length_counter += 1\n",
    "    if episode_length_counter == 500:\n",
    "        RL.store()\n",
    "RL.store()"
   ]
  },
  {
   "cell_type": "code",
   "execution_count": 4,
   "metadata": {
    "colab": {
     "base_uri": "https://localhost:8080/",
     "height": 282
    },
    "colab_type": "code",
    "id": "LCxAuNQegi2Q",
    "outputId": "7778f441-b45e-4086-af82-6389e31c11e9"
   },
   "outputs": [
    {
     "data": {
      "text/plain": [
       "[<matplotlib.lines.Line2D at 0x7f5d0fe52fd0>]"
      ]
     },
     "execution_count": 4,
     "metadata": {
      "tags": []
     },
     "output_type": "execute_result"
    },
    {
     "data": {
      "image/png": "[encoded data removed]",
      "text/plain": [
       "<Figure size 432x288 with 1 Axes>"
      ]
     },
     "metadata": {
      "tags": []
     },
     "output_type": "display_data"
    }
   ],
   "source": [
    "from matplotlib import pyplot as plt\n",
    "plt.plot(episode_length_set)"
   ]
  },
  {
   "cell_type": "markdown",
   "metadata": {
    "colab_type": "text",
    "id": "aeXGUqqznhrw"
   },
   "source": [
    "### 4.4 Test"
   ]
  },
  {
   "cell_type": "code",
   "execution_count": 5,
   "metadata": {
    "colab": {
     "base_uri": "https://localhost:8080/",
     "height": 1000
    },
    "colab_type": "code",
    "id": "KF1UKCM3rp4m",
    "outputId": "068d58e7-1de5-4977-e1cc-09dcbcb47044"
   },
   "outputs": [
    {
     "name": "stdout",
     "output_type": "stream",
     "text": [
      "INFO:tensorflow:Restoring parameters from ./weights/DQN_model.ckpt\n",
      "During the trail  1  , the agent played  386 unit time\n",
      "During the trail  2  , the agent played  377 unit time\n",
      "During the trail  3  , the agent played  436 unit time\n",
      "During the trail  4  , the agent played  397 unit time\n",
      "During the trail  5  , the agent played  380 unit time\n",
      "During the trail  6  , the agent played  436 unit time\n",
      "During the trail  7  , the agent played  405 unit time\n",
      "During the trail  8  , the agent played  403 unit time\n",
      "During the trail  9  , the agent played  341 unit time\n",
      "During the trail  10  , the agent played  371 unit time\n",
      "During the trail  11  , the agent played  434 unit time\n",
      "During the trail  12  , the agent played  363 unit time\n",
      "During the trail  13  , the agent played  324 unit time\n",
      "During the trail  14  , the agent played  435 unit time\n",
      "During the trail  15  , the agent played  357 unit time\n",
      "During the trail  16  , the agent played  411 unit time\n",
      "During the trail  17  , the agent played  392 unit time\n",
      "During the trail  18  , the agent played  370 unit time\n",
      "During the trail  19  , the agent played  426 unit time\n",
      "During the trail  20  , the agent played  443 unit time\n",
      "During the trail  21  , the agent played  354 unit time\n",
      "During the trail  22  , the agent played  397 unit time\n",
      "During the trail  23  , the agent played  384 unit time\n",
      "During the trail  24  , the agent played  396 unit time\n",
      "During the trail  25  , the agent played  411 unit time\n",
      "During the trail  26  , the agent played  387 unit time\n",
      "During the trail  27  , the agent played  399 unit time\n",
      "During the trail  28  , the agent played  384 unit time\n",
      "During the trail  29  , the agent played  425 unit time\n",
      "During the trail  30  , the agent played  402 unit time\n",
      "During the trail  31  , the agent played  348 unit time\n",
      "During the trail  32  , the agent played  415 unit time\n",
      "During the trail  33  , the agent played  411 unit time\n",
      "During the trail  34  , the agent played  332 unit time\n",
      "During the trail  35  , the agent played  390 unit time\n",
      "During the trail  36  , the agent played  393 unit time\n",
      "During the trail  37  , the agent played  459 unit time\n",
      "During the trail  38  , the agent played  357 unit time\n",
      "During the trail  39  , the agent played  401 unit time\n",
      "During the trail  40  , the agent played  425 unit time\n",
      "During the trail  41  , the agent played  361 unit time\n",
      "During the trail  42  , the agent played  461 unit time\n",
      "During the trail  43  , the agent played  368 unit time\n",
      "During the trail  44  , the agent played  333 unit time\n",
      "During the trail  45  , the agent played  399 unit time\n",
      "During the trail  46  , the agent played  448 unit time\n",
      "During the trail  47  , the agent played  327 unit time\n",
      "During the trail  48  , the agent played  331 unit time\n",
      "During the trail  49  , the agent played  401 unit time\n",
      "During the trail  50  , the agent played  331 unit time\n",
      "During the trail  51  , the agent played  429 unit time\n",
      "During the trail  52  , the agent played  445 unit time\n",
      "During the trail  53  , the agent played  363 unit time\n",
      "During the trail  54  , the agent played  378 unit time\n",
      "During the trail  55  , the agent played  430 unit time\n",
      "During the trail  56  , the agent played  486 unit time\n",
      "During the trail  57  , the agent played  374 unit time\n",
      "During the trail  58  , the agent played  335 unit time\n",
      "During the trail  59  , the agent played  358 unit time\n",
      "During the trail  60  , the agent played  396 unit time\n",
      "During the trail  61  , the agent played  358 unit time\n",
      "During the trail  62  , the agent played  397 unit time\n",
      "During the trail  63  , the agent played  330 unit time\n",
      "During the trail  64  , the agent played  386 unit time\n",
      "During the trail  65  , the agent played  370 unit time\n",
      "During the trail  66  , the agent played  442 unit time\n",
      "During the trail  67  , the agent played  365 unit time\n",
      "During the trail  68  , the agent played  353 unit time\n",
      "During the trail  69  , the agent played  409 unit time\n",
      "During the trail  70  , the agent played  344 unit time\n",
      "During the trail  71  , the agent played  426 unit time\n",
      "During the trail  72  , the agent played  344 unit time\n",
      "During the trail  73  , the agent played  352 unit time\n",
      "During the trail  74  , the agent played  332 unit time\n",
      "During the trail  75  , the agent played  349 unit time\n",
      "During the trail  76  , the agent played  394 unit time\n",
      "During the trail  77  , the agent played  357 unit time\n",
      "During the trail  78  , the agent played  397 unit time\n",
      "During the trail  79  , the agent played  398 unit time\n",
      "During the trail  80  , the agent played  333 unit time\n",
      "During the trail  81  , the agent played  358 unit time\n",
      "During the trail  82  , the agent played  418 unit time\n",
      "During the trail  83  , the agent played  382 unit time\n",
      "During the trail  84  , the agent played  385 unit time\n",
      "During the trail  85  , the agent played  361 unit time\n",
      "During the trail  86  , the agent played  352 unit time\n",
      "During the trail  87  , the agent played  470 unit time\n",
      "During the trail  88  , the agent played  377 unit time\n",
      "During the trail  89  , the agent played  335 unit time\n",
      "During the trail  90  , the agent played  385 unit time\n",
      "During the trail  91  , the agent played  373 unit time\n",
      "During the trail  92  , the agent played  428 unit time\n",
      "During the trail  93  , the agent played  388 unit time\n",
      "During the trail  94  , the agent played  381 unit time\n",
      "During the trail  95  , the agent played  348 unit time\n",
      "During the trail  96  , the agent played  369 unit time\n",
      "During the trail  97  , the agent played  351 unit time\n",
      "During the trail  98  , the agent played  346 unit time\n",
      "During the trail  99  , the agent played  348 unit time\n",
      "During the trail  100  , the agent played  418 unit time\n"
     ]
    }
   ],
   "source": [
    "# test our network\n",
    "tf.reset_default_graph()\n",
    "RL = DQN(actions_num = 2, gamma = 1,\n",
    "         state_size = 4, epsilon_start = 1,\n",
    "         learning_rate = 1e-3, epsilon_min = 0,\n",
    "         replace_target_iter = 100, memory_size = 5000,\n",
    "         epsilon_increment = None,)\n",
    "# load saved parameters\n",
    "RL.restore()\n",
    "# run 100 trails and print how long can the agent hold the cart pole for each trail\n",
    "for i in range(100):\n",
    "    new_state = env.reset()\n",
    "    done = False\n",
    "    episode_length_counter = 0\n",
    "    while (not done):\n",
    "        S = new_state\n",
    "        A = RL.choose_action(S)\n",
    "        S_, R, done, info = env.step(A)\n",
    "    #RL.store_transition(S,A,R,S_,done)\n",
    "        episode_length_counter += 1\n",
    "        new_state = S_ \n",
    "    print('During the trail ', i+1, ' , the agent played ', episode_length_counter, 'unit time')\n",
    "  "
   ]
  },
  {
   "cell_type": "code",
   "execution_count": null,
   "metadata": {
    "colab": {},
    "colab_type": "code",
    "id": "QYGTLZOjPOLJ"
   },
   "outputs": [],
   "source": []
  }
 ],
 "metadata": {
  "colab": {
   "collapsed_sections": [],
   "name": "Copy of ELEN_6885_HW4_Part_4.ipynb",
   "provenance": [],
   "toc_visible": true
  },
  "kernelspec": {
   "display_name": "Python 3",
   "language": "python",
   "name": "python3"
  },
  "language_info": {
   "codemirror_mode": {
    "name": "ipython",
    "version": 3
   },
   "file_extension": ".py",
   "mimetype": "text/x-python",
   "name": "python",
   "nbconvert_exporter": "python",
   "pygments_lexer": "ipython3",
   "version": "3.7.3"
  }
 },
 "nbformat": 4,
 "nbformat_minor": 4
}
